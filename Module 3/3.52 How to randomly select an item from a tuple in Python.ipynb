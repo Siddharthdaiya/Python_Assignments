{
 "cells": [
  {
   "cell_type": "code",
   "execution_count": null,
   "id": "5a055a43",
   "metadata": {},
   "outputs": [],
   "source": [
    "How to randomly select an item from a tuple in Python?\n",
    "\n",
    "In this article, we will show you how to randomly select an item from a tuple using python. Below are the various methods in python to accomplish this task:\n",
    "\n",
    "Using random.choice() method\n",
    "\n",
    "Using random.randrange() method\n",
    "\n",
    "Using random.randint() method\n",
    "\n",
    "Using random.random()\n",
    "\n",
    "Using random.sample() method\n",
    "\n",
    "Using random.choices() method"
   ]
  }
 ],
 "metadata": {
  "kernelspec": {
   "display_name": "Python 3 (ipykernel)",
   "language": "python",
   "name": "python3"
  },
  "language_info": {
   "codemirror_mode": {
    "name": "ipython",
    "version": 3
   },
   "file_extension": ".py",
   "mimetype": "text/x-python",
   "name": "python",
   "nbconvert_exporter": "python",
   "pygments_lexer": "ipython3",
   "version": "3.9.13"
  }
 },
 "nbformat": 4,
 "nbformat_minor": 5
}
