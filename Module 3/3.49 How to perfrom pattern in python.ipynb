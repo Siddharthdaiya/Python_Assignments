{
 "cells": [
  {
   "cell_type": "code",
   "execution_count": null,
   "id": "2db89ad1",
   "metadata": {},
   "outputs": [],
   "source": [
    "# How to perform pattern matching in Python?\n",
    "# Python provides a module referred as re for performing pattern matching using regular expression operations. \n",
    "# It provides many different functions that allows you to check if a particular string matches a given regular expression.\n",
    "# Both patterns and strings to be searched can be Unicode strings (str) as well as 8-bit strings (bytes). \n",
    "# However, We cannot take combination of Unicode strings and 8-bit strings.\n",
    "# Similarly, while doing substitution, the replacement string must be of the same type as both the pattern and the search string.\n",
    "# The python's raw string notation is used for regular expression patterns.\n",
    "\n",
    "# There are five different functions provided in re module to perform pattern matching. They are as listed below.\n",
    "\n",
    "# Using re.search() Function\n",
    "# Using re.match() Function\n",
    "# Using re.fullmatch() Function\n",
    "# Using re.findall() Function\n",
    "# Using re.finditer() Function"
   ]
  }
 ],
 "metadata": {
  "kernelspec": {
   "display_name": "Python 3 (ipykernel)",
   "language": "python",
   "name": "python3"
  },
  "language_info": {
   "codemirror_mode": {
    "name": "ipython",
    "version": 3
   },
   "file_extension": ".py",
   "mimetype": "text/x-python",
   "name": "python",
   "nbconvert_exporter": "python",
   "pygments_lexer": "ipython3",
   "version": "3.9.13"
  }
 },
 "nbformat": 4,
 "nbformat_minor": 5
}
