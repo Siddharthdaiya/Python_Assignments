{
 "cells": [
  {
   "cell_type": "code",
   "execution_count": null,
   "id": "76a36542",
   "metadata": {},
   "outputs": [],
   "source": [
    "keys=['audi','BMW','Ford']\n",
    "values=[2000000,5210000,1000000]\n",
    "car=dict(zip(keys,values))\n",
    "print(car)"
   ]
  },
  {
   "cell_type": "code",
   "execution_count": 2,
   "id": "2438708f",
   "metadata": {},
   "outputs": [
    {
     "name": "stdout",
     "output_type": "stream",
     "text": [
      "{'audi': 2000000, 'BMW': 5210000, 'Ford': 1000000}\n"
     ]
    }
   ],
   "source": []
  }
 ],
 "metadata": {
  "kernelspec": {
   "display_name": "Python 3 (ipykernel)",
   "language": "python",
   "name": "python3"
  },
  "language_info": {
   "codemirror_mode": {
    "name": "ipython",
    "version": 3
   },
   "file_extension": ".py",
   "mimetype": "text/x-python",
   "name": "python",
   "nbconvert_exporter": "python",
   "pygments_lexer": "ipython3",
   "version": "3.9.13"
  }
 },
 "nbformat": 4,
 "nbformat_minor": 5
}
