{
 "cells": [
  {
   "cell_type": "code",
   "execution_count": 9,
   "id": "9bd8b0d6",
   "metadata": {},
   "outputs": [
    {
     "name": "stdout",
     "output_type": "stream",
     "text": [
      "true\n",
      "FAlse\n",
      "FAlse\n",
      "FAlse\n",
      "FAlse\n",
      "FAlse\n"
     ]
    }
   ],
   "source": [
    "list1=[10,20,30,40,50]\n",
    "list2=[10,101,201,301,401,501]\n",
    "\n",
    "for x in list1:\n",
    "    for y in list2:\n",
    "        if x==y:\n",
    "            print(\"true\")\n",
    "else:\n",
    "        print(\"FAlse\")"
   ]
  },
  {
   "cell_type": "code",
   "execution_count": null,
   "id": "7879a2b8",
   "metadata": {},
   "outputs": [],
   "source": [
    "    for x in list1:\n",
    " \n",
    "        # traverse in the 2nd list\n",
    "        for y in list2:\n",
    "   \n",
    "            # if one common\n",
    "            if x == y:\n",
    "                result = True\n",
    "                return result\n",
    "                 \n",
    "    return result"
   ]
  }
 ],
 "metadata": {
  "kernelspec": {
   "display_name": "Python 3 (ipykernel)",
   "language": "python",
   "name": "python3"
  },
  "language_info": {
   "codemirror_mode": {
    "name": "ipython",
    "version": 3
   },
   "file_extension": ".py",
   "mimetype": "text/x-python",
   "name": "python",
   "nbconvert_exporter": "python",
   "pygments_lexer": "ipython3",
   "version": "3.9.13"
  }
 },
 "nbformat": 4,
 "nbformat_minor": 5
}
