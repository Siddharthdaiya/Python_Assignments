{
 "cells": [
  {
   "cell_type": "code",
   "execution_count": null,
   "id": "638c7b36",
   "metadata": {},
   "outputs": [],
   "source": [
    "# 3.41 Write a Python program to create and display all combinations of letters,\n",
    "# selecting each letter from a different key in a dictionary.\n",
    "# o Sample data: {'1': ['a','b'], '2': ['c','d']}\n",
    "# o Expected Output:\n",
    "# o ac ad bc bd\n",
    "\n",
    "# sir karayenge\n"
   ]
  }
 ],
 "metadata": {
  "kernelspec": {
   "display_name": "Python 3 (ipykernel)",
   "language": "python",
   "name": "python3"
  },
  "language_info": {
   "codemirror_mode": {
    "name": "ipython",
    "version": 3
   },
   "file_extension": ".py",
   "mimetype": "text/x-python",
   "name": "python",
   "nbconvert_exporter": "python",
   "pygments_lexer": "ipython3",
   "version": "3.9.13"
  }
 },
 "nbformat": 4,
 "nbformat_minor": 5
}
