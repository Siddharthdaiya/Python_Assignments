{
 "cells": [
  {
   "cell_type": "code",
   "execution_count": null,
   "id": "9be40421",
   "metadata": {},
   "outputs": [],
   "source": [
    "dic1={'a':10, 'b':20}\n",
    "dic2={'c':30, 'd':40}\n",
    "dic3={'e':50,'f':60}\n",
    "dic4 = {}\n",
    "for d in (dic1, dic2, dic3): dic4.update(d)\n",
    "print(dic4)"
   ]
  }
 ],
 "metadata": {
  "kernelspec": {
   "display_name": "Python 3 (ipykernel)",
   "language": "python",
   "name": "python3"
  },
  "language_info": {
   "codemirror_mode": {
    "name": "ipython",
    "version": 3
   },
   "file_extension": ".py",
   "mimetype": "text/x-python",
   "name": "python",
   "nbconvert_exporter": "python",
   "pygments_lexer": "ipython3",
   "version": "3.9.13"
  }
 },
 "nbformat": 4,
 "nbformat_minor": 5
}
