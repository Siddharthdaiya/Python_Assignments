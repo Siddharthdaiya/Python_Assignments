{
 "cells": [
  {
   "cell_type": "code",
   "execution_count": null,
   "id": "8352b5a3",
   "metadata": {},
   "outputs": [],
   "source": [
    "#  Why do we use zip()Method?\n",
    "# Python's zip() function creates an iterator that will aggregate elements\n",
    "# from two or more iterables. You can use the resulting iterator to quickly \n",
    "# and consistently solve common programming problems, like creating dictionaries."
   ]
  }
 ],
 "metadata": {
  "kernelspec": {
   "display_name": "Python 3 (ipykernel)",
   "language": "python",
   "name": "python3"
  },
  "language_info": {
   "codemirror_mode": {
    "name": "ipython",
    "version": 3
   },
   "file_extension": ".py",
   "mimetype": "text/x-python",
   "name": "python",
   "nbconvert_exporter": "python",
   "pygments_lexer": "ipython3",
   "version": "3.9.13"
  }
 },
 "nbformat": 4,
 "nbformat_minor": 5
}
