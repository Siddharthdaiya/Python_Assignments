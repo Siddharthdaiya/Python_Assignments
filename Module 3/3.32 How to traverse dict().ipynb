{
 "cells": [
  {
   "cell_type": "code",
   "execution_count": 2,
   "id": "b0fa35e2",
   "metadata": {},
   "outputs": [
    {
     "name": "stdout",
     "output_type": "stream",
     "text": [
      "{'Student_rollno': 30, 'Student_name': 'Siddharth', 'student_age': 19, 'student_city': 'Surat'}\n",
      "Student_rollno 30\n",
      "Student_name Siddharth\n",
      "student_age 19\n",
      "student_city Surat\n"
     ]
    }
   ],
   "source": [
    "# By using Keys Method\n",
    "dictt={\n",
    "    'Student_rollno':30,\n",
    "    'Student_name':'Siddharth',\n",
    "    'student_age':19,\n",
    "    'student_city':'Surat'\n",
    "}\n",
    "print(dictt)\n",
    "print(\"---------------------Dictionary after traverse----------------\")\n",
    "for keys, values in dictt.items():\n",
    "       print(keys ,values)\n",
    "\n",
    "    \n"
   ]
  }
 ],
 "metadata": {
  "kernelspec": {
   "display_name": "Python 3 (ipykernel)",
   "language": "python",
   "name": "python3"
  },
  "language_info": {
   "codemirror_mode": {
    "name": "ipython",
    "version": 3
   },
   "file_extension": ".py",
   "mimetype": "text/x-python",
   "name": "python",
   "nbconvert_exporter": "python",
   "pygments_lexer": "ipython3",
   "version": "3.9.13"
  }
 },
 "nbformat": 4,
 "nbformat_minor": 5
}
