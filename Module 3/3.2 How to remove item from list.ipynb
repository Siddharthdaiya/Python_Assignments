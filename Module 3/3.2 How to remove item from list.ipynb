{
 "cells": [
  {
   "cell_type": "code",
   "execution_count": null,
   "id": "b3913288",
   "metadata": {},
   "outputs": [],
   "source": [
    "# How to Remove Item from the List?\n",
    "# The del operator deletes the element at the specified index location from the list.\n",
    "# To delete the last element, we can use the negative index -1. \n",
    "# The use of the negative index allows us to delete the last element, \n",
    "# even without calculating the length of the list"
   ]
  }
 ],
 "metadata": {
  "kernelspec": {
   "display_name": "Python 3 (ipykernel)",
   "language": "python",
   "name": "python3"
  },
  "language_info": {
   "codemirror_mode": {
    "name": "ipython",
    "version": 3
   },
   "file_extension": ".py",
   "mimetype": "text/x-python",
   "name": "python",
   "nbconvert_exporter": "python",
   "pygments_lexer": "ipython3",
   "version": "3.9.13"
  }
 },
 "nbformat": 4,
 "nbformat_minor": 5
}
