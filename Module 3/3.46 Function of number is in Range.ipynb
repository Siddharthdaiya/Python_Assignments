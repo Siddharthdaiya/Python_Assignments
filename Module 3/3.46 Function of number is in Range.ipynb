{
 "cells": [
  {
   "cell_type": "code",
   "execution_count": 3,
   "id": "47e5cfa7",
   "metadata": {},
   "outputs": [
    {
     "name": "stdout",
     "output_type": "stream",
     "text": [
      "The Number Is not in range\n"
     ]
    }
   ],
   "source": [
    "# Write a Python function to check whether a number is in a given range\n",
    "def isinrange(n):\n",
    "    if n in range(0,1000):\n",
    "        print(\"The Number is in range\")\n",
    "    else:\n",
    "        print(\"The Number Is not in range\")\n",
    "isinrange(500)"
   ]
  }
 ],
 "metadata": {
  "kernelspec": {
   "display_name": "Python 3 (ipykernel)",
   "language": "python",
   "name": "python3"
  },
  "language_info": {
   "codemirror_mode": {
    "name": "ipython",
    "version": 3
   },
   "file_extension": ".py",
   "mimetype": "text/x-python",
   "name": "python",
   "nbconvert_exporter": "python",
   "pygments_lexer": "ipython3",
   "version": "3.9.13"
  }
 },
 "nbformat": 4,
 "nbformat_minor": 5
}
