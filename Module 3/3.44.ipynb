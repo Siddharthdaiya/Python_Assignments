{
 "cells": [
  {
   "cell_type": "code",
   "execution_count": 1,
   "id": "c8acf614",
   "metadata": {},
   "outputs": [
    {
     "name": "stdout",
     "output_type": "stream",
     "text": [
      "{'s': 1, 'i': 1, 'd': 2, 'h': 2, 'a': 1, 'r': 1, 't': 1}\n"
     ]
    }
   ],
   "source": [
    "# Write a Python program to create a dictionary from a string.\n",
    "# o Note: Track the count of the letters from the string. Sample string:\n",
    "# 'w3resource'\n",
    "# o Expected output: {'3': 1,’s’: 1, 'r': 2, 'u': 1, 'w': 1, 'c': 1, 'e': 2, 'o': 1}\n",
    "\n",
    "\n",
    "str1 = 'siddharth' \n",
    "dict1 = {}\n",
    "for i in str1:\n",
    "    dict1[i] = dict1.get(letter, 0) + 1\n",
    "print(dict1)\n",
    "    "
   ]
  }
 ],
 "metadata": {
  "kernelspec": {
   "display_name": "Python 3 (ipykernel)",
   "language": "python",
   "name": "python3"
  },
  "language_info": {
   "codemirror_mode": {
    "name": "ipython",
    "version": 3
   },
   "file_extension": ".py",
   "mimetype": "text/x-python",
   "name": "python",
   "nbconvert_exporter": "python",
   "pygments_lexer": "ipython3",
   "version": "3.9.13"
  }
 },
 "nbformat": 4,
 "nbformat_minor": 5
}
