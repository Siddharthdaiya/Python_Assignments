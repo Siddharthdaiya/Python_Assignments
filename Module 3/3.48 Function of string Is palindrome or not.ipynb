{
 "cells": [
  {
   "cell_type": "code",
   "execution_count": null,
   "id": "a12693cd",
   "metadata": {},
   "outputs": [],
   "source": [
    "# Write a Python function that checks whether a passed string is palindrome\n",
    "# or not\n",
    "\n",
    "def isPalindrome(str):\n",
    "    return str==str[::-1]\n",
    "str=input(\"ENter Any String : \")\n",
    "result=isPalindrome(str)\n",
    "if result:\n",
    "    print(\"String is Palindrome\")\n",
    "else:\n",
    "    print(\"String is Not Plindrome\")"
   ]
  }
 ],
 "metadata": {
  "kernelspec": {
   "display_name": "Python 3 (ipykernel)",
   "language": "python",
   "name": "python3"
  },
  "language_info": {
   "codemirror_mode": {
    "name": "ipython",
    "version": 3
   },
   "file_extension": ".py",
   "mimetype": "text/x-python",
   "name": "python",
   "nbconvert_exporter": "python",
   "pygments_lexer": "ipython3",
   "version": "3.9.13"
  }
 },
 "nbformat": 4,
 "nbformat_minor": 5
}
