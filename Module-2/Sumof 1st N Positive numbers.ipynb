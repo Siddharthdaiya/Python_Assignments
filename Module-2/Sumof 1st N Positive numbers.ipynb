{
 "cells": [
  {
   "cell_type": "code",
   "execution_count": 4,
   "id": "6cbb241c",
   "metadata": {},
   "outputs": [
    {
     "name": "stdout",
     "output_type": "stream",
     "text": [
      "Enter Any Number15\n",
      "The Sum of  numbers are :  120\n"
     ]
    }
   ],
   "source": [
    "num=int (input(\"Enter Any Number\"))\n",
    "sum=0\n",
    "for i in range(num+1):\n",
    "    sum+=i\n",
    "print(\"The Sum of  numbers are : \",sum)\n",
    "    "
   ]
  }
 ],
 "metadata": {
  "kernelspec": {
   "display_name": "Python 3 (ipykernel)",
   "language": "python",
   "name": "python3"
  },
  "language_info": {
   "codemirror_mode": {
    "name": "ipython",
    "version": 3
   },
   "file_extension": ".py",
   "mimetype": "text/x-python",
   "name": "python",
   "nbconvert_exporter": "python",
   "pygments_lexer": "ipython3",
   "version": "3.9.13"
  }
 },
 "nbformat": 4,
 "nbformat_minor": 5
}
