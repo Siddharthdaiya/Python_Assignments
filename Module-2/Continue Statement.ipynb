{
 "cells": [
  {
   "cell_type": "code",
   "execution_count": null,
   "id": "884c40b7",
   "metadata": {},
   "outputs": [],
   "source": []
  },
  {
   "cell_type": "code",
   "execution_count": null,
   "id": "fc9f499f",
   "metadata": {},
   "outputs": [],
   "source": [
    "What is the use of continue statement in?\n",
    "A continue statement ends the current iteration of a loop.\n",
    "Program control is passed from the continue statement to the end of the loop body.\n",
    "A continue statement can only appear within the body of an iterative statement, such as do , for , or while .\n"
   ]
  }
 ],
 "metadata": {
  "kernelspec": {
   "display_name": "Python 3 (ipykernel)",
   "language": "python",
   "name": "python3"
  },
  "language_info": {
   "codemirror_mode": {
    "name": "ipython",
    "version": 3
   },
   "file_extension": ".py",
   "mimetype": "text/x-python",
   "name": "python",
   "nbconvert_exporter": "python",
   "pygments_lexer": "ipython3",
   "version": "3.9.13"
  }
 },
 "nbformat": 4,
 "nbformat_minor": 5
}
