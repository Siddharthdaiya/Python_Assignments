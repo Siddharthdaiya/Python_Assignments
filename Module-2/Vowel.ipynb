{
 "cells": [
  {
   "cell_type": "code",
   "execution_count": 22,
   "id": "628d220f",
   "metadata": {},
   "outputs": [
    {
     "name": "stdout",
     "output_type": "stream",
     "text": [
      "Enter Any Characterd\n",
      "The Character is not Vowel...\n"
     ]
    }
   ],
   "source": [
    "str=input(\"Enter Any Character\")\n",
    "if str=='A' or str=='a' or str=='E' or str=='e' or str=='I' or str=='i' or str=='O' or str=='o' or str=='U' or str=='u':\n",
    "    print(\"The Character is a Vowel ....\")\n",
    "else:\n",
    "    print(\"The Character is not Vowel...\")"
   ]
  }
 ],
 "metadata": {
  "kernelspec": {
   "display_name": "Python 3 (ipykernel)",
   "language": "python",
   "name": "python3"
  },
  "language_info": {
   "codemirror_mode": {
    "name": "ipython",
    "version": 3
   },
   "file_extension": ".py",
   "mimetype": "text/x-python",
   "name": "python",
   "nbconvert_exporter": "python",
   "pygments_lexer": "ipython3",
   "version": "3.9.13"
  }
 },
 "nbformat": 4,
 "nbformat_minor": 5
}
