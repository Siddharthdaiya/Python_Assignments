{
 "cells": [
  {
   "cell_type": "code",
   "execution_count": 1,
   "id": "bdd94e52",
   "metadata": {},
   "outputs": [],
   "source": [
    "# What is Instantiation in terms of OOP terminology?\n",
    "\n",
    "# Instantiation − The creation of an instance of a class. \n",
    "# Method − A special kind of function that is defined in a class definition.\n",
    "# Object − A unique instance of a data structure that's defined by its class.\n",
    "# An object comprises both data members (class variables and instance variables) and methods.\n",
    "\n",
    "# Lets See an Example\n",
    "\n",
    "class Student:\n",
    "    school_name=\"Gurukul\"\n",
    "    \n",
    "    def __init__(self,a,b):   #This is known as Instantiation Method\n",
    "        self.age=a\n",
    "        self.name=b\n",
    "        \n",
    "    "
   ]
  },
  {
   "cell_type": "code",
   "execution_count": 4,
   "id": "553048b1",
   "metadata": {},
   "outputs": [
    {
     "data": {
      "text/plain": [
       "15"
      ]
     },
     "execution_count": 4,
     "metadata": {},
     "output_type": "execute_result"
    }
   ],
   "source": [
    "s1=Student(15,\"Siddharth\")# Here we are calling the Instance method\n",
    "s1.school_name\n",
    "s1.age"
   ]
  }
 ],
 "metadata": {
  "kernelspec": {
   "display_name": "Python 3 (ipykernel)",
   "language": "python",
   "name": "python3"
  },
  "language_info": {
   "codemirror_mode": {
    "name": "ipython",
    "version": 3
   },
   "file_extension": ".py",
   "mimetype": "text/x-python",
   "name": "python",
   "nbconvert_exporter": "python",
   "pygments_lexer": "ipython3",
   "version": "3.9.13"
  }
 },
 "nbformat": 4,
 "nbformat_minor": 5
}
