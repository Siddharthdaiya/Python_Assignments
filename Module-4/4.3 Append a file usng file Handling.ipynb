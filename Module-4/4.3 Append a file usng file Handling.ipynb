{
 "cells": [
  {
   "cell_type": "code",
   "execution_count": 2,
   "id": "8bbee2b9",
   "metadata": {},
   "outputs": [],
   "source": [
    "# Write a Python program to append text to a file and display the text.\n",
    "\n",
    "with open(r'D:\\File HAndling\\Ass2.txt','w') as file1:\n",
    "    file1.write(\"Python is a high-level\")"
   ]
  },
  {
   "cell_type": "code",
   "execution_count": null,
   "id": "a787cb38",
   "metadata": {
    "collapsed": true
   },
   "outputs": [],
   "source": [
    "open(r'D:\\File HAndling\\Ass2.txt','w')"
   ]
  }
 ],
 "metadata": {
  "kernelspec": {
   "display_name": "Python 3 (ipykernel)",
   "language": "python",
   "name": "python3"
  },
  "language_info": {
   "codemirror_mode": {
    "name": "ipython",
    "version": 3
   },
   "file_extension": ".py",
   "mimetype": "text/x-python",
   "name": "python",
   "nbconvert_exporter": "python",
   "pygments_lexer": "ipython3",
   "version": "3.9.13"
  }
 },
 "nbformat": 4,
 "nbformat_minor": 5
}
