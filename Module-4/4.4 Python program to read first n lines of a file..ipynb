{
 "cells": [
  {
   "cell_type": "code",
   "execution_count": 1,
   "id": "6200c000",
   "metadata": {},
   "outputs": [],
   "source": [
    "# Write a Python program to read first n lines of a file.\n",
    "\n",
    "with open('D:\\File HAndling\\Ass3.txt','w') as f1:\n",
    "    f1.write(\"Hey my name is siddharth.\\n And I am pusuing bachelors degree from Ambaba Collge.\\n Currently I am doing Python language...\")\n",
    "    "
   ]
  },
  {
   "cell_type": "code",
   "execution_count": 8,
   "id": "e9092f52",
   "metadata": {},
   "outputs": [],
   "source": [
    "f1=open('D:\\File HAndling\\Ass3.txt','r')\n",
    "f1.read(15)\n",
    "f1.close()"
   ]
  },
  {
   "cell_type": "code",
   "execution_count": null,
   "id": "ddb6c171",
   "metadata": {},
   "outputs": [],
   "source": [
    "print(s)"
   ]
  }
 ],
 "metadata": {
  "kernelspec": {
   "display_name": "Python 3 (ipykernel)",
   "language": "python",
   "name": "python3"
  },
  "language_info": {
   "codemirror_mode": {
    "name": "ipython",
    "version": 3
   },
   "file_extension": ".py",
   "mimetype": "text/x-python",
   "name": "python",
   "nbconvert_exporter": "python",
   "pygments_lexer": "ipython3",
   "version": "3.9.13"
  }
 },
 "nbformat": 4,
 "nbformat_minor": 5
}
