{
 "cells": [
  {
   "cell_type": "code",
   "execution_count": 1,
   "id": "7c229df7",
   "metadata": {},
   "outputs": [],
   "source": [
    "#  Write a Python program to count the number of lines in a text file\n",
    "with open('D:\\File HAndling\\Ass6.txt','w') as f4:\n",
    "    f4.write(\"Python is a high level programming language\\nThis is First line\\nThis is Second line\\nThis is Third line\\nThis is Fourth line\")\n",
    "    "
   ]
  },
  {
   "cell_type": "code",
   "execution_count": 7,
   "id": "af8759d2",
   "metadata": {},
   "outputs": [],
   "source": [
    "f4=open('D:\\File HAndling\\Ass6.txt','r')\n",
    "s=f4.readlines()\n",
    "f4.close()\n"
   ]
  },
  {
   "cell_type": "code",
   "execution_count": 8,
   "id": "f234e5fc",
   "metadata": {},
   "outputs": [
    {
     "name": "stdout",
     "output_type": "stream",
     "text": [
      "['Python is a high level programming language\\n', 'This is First line\\n', 'This is Second line\\n', 'This is Third line\\n', 'This is Fourth line']\n"
     ]
    }
   ],
   "source": [
    "print(s)"
   ]
  }
 ],
 "metadata": {
  "kernelspec": {
   "display_name": "Python 3 (ipykernel)",
   "language": "python",
   "name": "python3"
  },
  "language_info": {
   "codemirror_mode": {
    "name": "ipython",
    "version": 3
   },
   "file_extension": ".py",
   "mimetype": "text/x-python",
   "name": "python",
   "nbconvert_exporter": "python",
   "pygments_lexer": "ipython3",
   "version": "3.9.13"
  }
 },
 "nbformat": 4,
 "nbformat_minor": 5
}
