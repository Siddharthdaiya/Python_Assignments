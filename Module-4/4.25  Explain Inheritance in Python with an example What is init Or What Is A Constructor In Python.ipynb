{
 "cells": [
  {
   "cell_type": "code",
   "execution_count": 7,
   "id": "e60a4e36",
   "metadata": {},
   "outputs": [],
   "source": [
    "#  Explain Inheritance in Python with an example? What is init? Or What Is\n",
    "# A Constructor In Python\n",
    "\n",
    "# Inheritance relationship defines the classes that inherit from other classes as derived,\n",
    "# subclass, or sub-type classes. Base class remains to be the source from which a subclass inherits.\n",
    "# For example, you have a Base class of “Animal,” and a “Lion” is a Derived class. The inheritance will be Lion is an Animal.  \n",
    "\n",
    "# So, the question is, what does the “Lion” class inherit from “Animal”? \n",
    "\n",
    "# A “Lion” class inherits\n",
    "\n",
    "# Interface\n",
    "# Execution \n",
    "# Note: You can replace the Derived Class objects with Base Class objects in an application\n",
    "#     known as the Liskov substitution principle. It indicates that if a computer program has object P as the subtype of Q,\n",
    "#     you can easily replace P with Q without altering the properties. \n",
    "\n",
    "# The __init__ method is the Python equivalent of the C++ constructor in an object-oriented approach.\n",
    "# The __init__ function is called every time an object is created from a class. \n",
    "# The __init__ method lets the class initialize the object's attributes and serves no other purpose. \n",
    "# It is only used within classes.\n",
    "\n",
    "# =====For Example=====\n",
    "\n",
    "class GrandPa:                          \n",
    "    property_=\"Bohat Sari\"\n",
    "    time=\"keemti\"\n",
    "    \n",
    "    def show(self):\n",
    "        print(\"This is a Grandpa class\")\n",
    "class Father(GrandPa):\n",
    "    izzat=\"Bohat Sari\"\n",
    "    paisa=\"Bohat Sare Paise\"\n",
    "    \n",
    "    def show(self):\n",
    "        print(\"This is a Father class\")\n",
    "class Mother(Father):\n",
    "    skills=\"Fully Talented\"\n",
    "    love=\"Bohat Sara\"\n",
    "    \n",
    "    def show(self):\n",
    "        print(\"This is a Mother class\")\n",
    "    \n",
    "class Son(Father):\n",
    "    talent=\"Multu=i Talented\"\n",
    "    time=\"Precious \"       \n",
    "    def show(self):\n",
    "        print(\"This is a Son class\")\n",
    "        \n",
    "class Daughter(Mother,Father):\n",
    "    skills=\"Cooking\"\n",
    "    def show(self):\n",
    "        print(\"This is a Daughter class\")\n",
    "        \n",
    "        \n",
    "#   In the above Example we have discussed all the types of Inheritance      \n",
    "# 2. Inheritence\n",
    "# Types of Inheritence\n",
    "# 1) Single Inheritence # single parent class and single child class\n",
    "# 2) Multiple Inheritence #multiple parent classes & single child class\n",
    "# 3) Multilevel Inheritence \n",
    "# 4) Hierarchical Inheritence\n",
    "# 5) Hybrid Inheritence\n",
    "\n"
   ]
  },
  {
   "cell_type": "code",
   "execution_count": 9,
   "id": "a364d4d5",
   "metadata": {},
   "outputs": [
    {
     "data": {
      "text/plain": [
       "'Bohat Sari'"
      ]
     },
     "execution_count": 9,
     "metadata": {},
     "output_type": "execute_result"
    }
   ],
   "source": [
    "d1=Daughter()\n",
    "d1.property_"
   ]
  }
 ],
 "metadata": {
  "kernelspec": {
   "display_name": "Python 3 (ipykernel)",
   "language": "python",
   "name": "python3"
  },
  "language_info": {
   "codemirror_mode": {
    "name": "ipython",
    "version": 3
   },
   "file_extension": ".py",
   "mimetype": "text/x-python",
   "name": "python",
   "nbconvert_exporter": "python",
   "pygments_lexer": "ipython3",
   "version": "3.9.13"
  }
 },
 "nbformat": 4,
 "nbformat_minor": 5
}
