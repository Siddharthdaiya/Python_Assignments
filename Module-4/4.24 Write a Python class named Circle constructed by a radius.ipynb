{
 "cells": [
  {
   "cell_type": "code",
   "execution_count": 18,
   "id": "2db36294",
   "metadata": {},
   "outputs": [
    {
     "name": "stdout",
     "output_type": "stream",
     "text": [
      "None\n"
     ]
    }
   ],
   "source": [
    "# Write a Python class named Circle constructed by a radius and two\n",
    "# methods which will compute the area and the perimeter of a circle\n",
    "\n",
    "class Circle:\n",
    "    def __init__(self,rad):\n",
    "        self.radius=rad\n",
    "    def area_of_circle(self):\n",
    "        area=3.14*self.radius*self.radius\n",
    "        return area\n",
    "    def perimeter_of_circle(self):\n",
    "        peri=2*3.14*self.radius\n",
    "c1=Circle(5)\n",
    "# print(c1.area_of_circle())\n",
    "print(c1.perimeter_of_circle())\n",
    "        "
   ]
  },
  {
   "cell_type": "code",
   "execution_count": null,
   "id": "82bf5208",
   "metadata": {},
   "outputs": [],
   "source": []
  }
 ],
 "metadata": {
  "kernelspec": {
   "display_name": "Python 3 (ipykernel)",
   "language": "python",
   "name": "python3"
  },
  "language_info": {
   "codemirror_mode": {
    "name": "ipython",
    "version": 3
   },
   "file_extension": ".py",
   "mimetype": "text/x-python",
   "name": "python",
   "nbconvert_exporter": "python",
   "pygments_lexer": "ipython3",
   "version": "3.9.13"
  }
 },
 "nbformat": 4,
 "nbformat_minor": 5
}
