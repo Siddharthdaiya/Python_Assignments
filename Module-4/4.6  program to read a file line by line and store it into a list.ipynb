{
 "cells": [
  {
   "cell_type": "code",
   "execution_count": 3,
   "id": "564c90a9",
   "metadata": {},
   "outputs": [],
   "source": [
    "# Write a Python program to read a file line by line and store it into a list\n",
    "\n",
    "with open('D:\\File HAndling\\Ass5.txt','w') as f3:\n",
    "    f3.write(\"Python is an high level programming language,\\nIt was created by guido van rossum...\")\n"
   ]
  },
  {
   "cell_type": "code",
   "execution_count": null,
   "id": "dad365c5",
   "metadata": {},
   "outputs": [],
   "source": [
    "f3=open('D:\\File HAndling\\Ass5.txt','r')\n",
    "s=f3.readlines(50)\n",
    "f3.close()\n",
    "print(s)"
   ]
  }
 ],
 "metadata": {
  "kernelspec": {
   "display_name": "Python 3 (ipykernel)",
   "language": "python",
   "name": "python3"
  },
  "language_info": {
   "codemirror_mode": {
    "name": "ipython",
    "version": 3
   },
   "file_extension": ".py",
   "mimetype": "text/x-python",
   "name": "python",
   "nbconvert_exporter": "python",
   "pygments_lexer": "ipython3",
   "version": "3.9.13"
  }
 },
 "nbformat": 4,
 "nbformat_minor": 5
}
